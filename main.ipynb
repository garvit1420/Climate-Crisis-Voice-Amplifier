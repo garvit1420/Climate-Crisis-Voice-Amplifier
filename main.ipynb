{
 "cells": [
  {
   "cell_type": "code",
   "execution_count": 12,
   "metadata": {},
   "outputs": [
    {
     "name": "stdout",
     "output_type": "stream",
     "text": [
      "Requirement already satisfied: spacy in c:\\users\\garvit\\appdata\\roaming\\python\\python312\\site-packages (3.8.4)\n",
      "Requirement already satisfied: spacy-legacy<3.1.0,>=3.0.11 in c:\\users\\garvit\\appdata\\roaming\\python\\python312\\site-packages (from spacy) (3.0.12)\n",
      "Requirement already satisfied: spacy-loggers<2.0.0,>=1.0.0 in c:\\users\\garvit\\appdata\\roaming\\python\\python312\\site-packages (from spacy) (1.0.5)\n",
      "Requirement already satisfied: murmurhash<1.1.0,>=0.28.0 in c:\\users\\garvit\\appdata\\roaming\\python\\python312\\site-packages (from spacy) (1.0.12)\n",
      "Requirement already satisfied: cymem<2.1.0,>=2.0.2 in c:\\users\\garvit\\appdata\\roaming\\python\\python312\\site-packages (from spacy) (2.0.11)\n",
      "Requirement already satisfied: preshed<3.1.0,>=3.0.2 in c:\\users\\garvit\\appdata\\roaming\\python\\python312\\site-packages (from spacy) (3.0.9)\n",
      "Requirement already satisfied: thinc<8.4.0,>=8.3.4 in c:\\users\\garvit\\appdata\\roaming\\python\\python312\\site-packages (from spacy) (8.3.4)\n",
      "Requirement already satisfied: wasabi<1.2.0,>=0.9.1 in c:\\users\\garvit\\appdata\\roaming\\python\\python312\\site-packages (from spacy) (1.1.3)\n",
      "Requirement already satisfied: srsly<3.0.0,>=2.4.3 in c:\\users\\garvit\\appdata\\roaming\\python\\python312\\site-packages (from spacy) (2.5.1)\n",
      "Requirement already satisfied: catalogue<2.1.0,>=2.0.6 in c:\\users\\garvit\\appdata\\roaming\\python\\python312\\site-packages (from spacy) (2.0.10)\n",
      "Requirement already satisfied: weasel<0.5.0,>=0.1.0 in c:\\users\\garvit\\appdata\\roaming\\python\\python312\\site-packages (from spacy) (0.4.1)\n",
      "Requirement already satisfied: typer<1.0.0,>=0.3.0 in c:\\users\\garvit\\.conda\\envs\\lotus\\lib\\site-packages (from spacy) (0.15.2)\n",
      "Requirement already satisfied: tqdm<5.0.0,>=4.38.0 in c:\\users\\garvit\\appdata\\roaming\\python\\python312\\site-packages (from spacy) (4.67.1)\n",
      "Requirement already satisfied: numpy>=1.19.0 in c:\\users\\garvit\\appdata\\roaming\\python\\python312\\site-packages (from spacy) (2.1.3)\n",
      "Requirement already satisfied: requests<3.0.0,>=2.13.0 in c:\\users\\garvit\\appdata\\roaming\\python\\python312\\site-packages (from spacy) (2.32.3)\n",
      "Requirement already satisfied: pydantic!=1.8,!=1.8.1,<3.0.0,>=1.7.4 in c:\\users\\garvit\\.conda\\envs\\lotus\\lib\\site-packages (from spacy) (2.10.6)\n",
      "Requirement already satisfied: jinja2 in c:\\users\\garvit\\appdata\\roaming\\python\\python312\\site-packages (from spacy) (3.1.4)\n",
      "Requirement already satisfied: setuptools in c:\\users\\garvit\\appdata\\roaming\\python\\python312\\site-packages (from spacy) (72.2.0)\n",
      "Requirement already satisfied: packaging>=20.0 in c:\\users\\garvit\\appdata\\roaming\\python\\python312\\site-packages (from spacy) (24.1)\n",
      "Requirement already satisfied: langcodes<4.0.0,>=3.2.0 in c:\\users\\garvit\\appdata\\roaming\\python\\python312\\site-packages (from spacy) (3.5.0)\n",
      "Requirement already satisfied: language-data>=1.2 in c:\\users\\garvit\\appdata\\roaming\\python\\python312\\site-packages (from langcodes<4.0.0,>=3.2.0->spacy) (1.3.0)\n",
      "Requirement already satisfied: annotated-types>=0.6.0 in c:\\users\\garvit\\.conda\\envs\\lotus\\lib\\site-packages (from pydantic!=1.8,!=1.8.1,<3.0.0,>=1.7.4->spacy) (0.7.0)\n",
      "Requirement already satisfied: pydantic-core==2.27.2 in c:\\users\\garvit\\.conda\\envs\\lotus\\lib\\site-packages (from pydantic!=1.8,!=1.8.1,<3.0.0,>=1.7.4->spacy) (2.27.2)\n",
      "Requirement already satisfied: typing-extensions>=4.12.2 in c:\\users\\garvit\\.conda\\envs\\lotus\\lib\\site-packages (from pydantic!=1.8,!=1.8.1,<3.0.0,>=1.7.4->spacy) (4.12.2)\n",
      "Requirement already satisfied: charset-normalizer<4,>=2 in c:\\users\\garvit\\appdata\\roaming\\python\\python312\\site-packages (from requests<3.0.0,>=2.13.0->spacy) (3.3.2)\n",
      "Requirement already satisfied: idna<4,>=2.5 in c:\\users\\garvit\\appdata\\roaming\\python\\python312\\site-packages (from requests<3.0.0,>=2.13.0->spacy) (3.7)\n",
      "Requirement already satisfied: urllib3<3,>=1.21.1 in c:\\users\\garvit\\appdata\\roaming\\python\\python312\\site-packages (from requests<3.0.0,>=2.13.0->spacy) (2.2.2)\n",
      "Requirement already satisfied: certifi>=2017.4.17 in c:\\users\\garvit\\appdata\\roaming\\python\\python312\\site-packages (from requests<3.0.0,>=2.13.0->spacy) (2024.7.4)\n",
      "Requirement already satisfied: blis<1.3.0,>=1.2.0 in c:\\users\\garvit\\appdata\\roaming\\python\\python312\\site-packages (from thinc<8.4.0,>=8.3.4->spacy) (1.2.0)\n",
      "Requirement already satisfied: confection<1.0.0,>=0.0.1 in c:\\users\\garvit\\appdata\\roaming\\python\\python312\\site-packages (from thinc<8.4.0,>=8.3.4->spacy) (0.1.5)\n",
      "Requirement already satisfied: colorama in c:\\users\\garvit\\appdata\\roaming\\python\\python312\\site-packages (from tqdm<5.0.0,>=4.38.0->spacy) (0.4.6)\n",
      "Requirement already satisfied: click>=8.0.0 in c:\\users\\garvit\\appdata\\roaming\\python\\python312\\site-packages (from typer<1.0.0,>=0.3.0->spacy) (8.1.8)\n",
      "Requirement already satisfied: shellingham>=1.3.0 in c:\\users\\garvit\\.conda\\envs\\lotus\\lib\\site-packages (from typer<1.0.0,>=0.3.0->spacy) (1.5.4)\n",
      "Requirement already satisfied: rich>=10.11.0 in c:\\users\\garvit\\.conda\\envs\\lotus\\lib\\site-packages (from typer<1.0.0,>=0.3.0->spacy) (13.9.4)\n",
      "Requirement already satisfied: cloudpathlib<1.0.0,>=0.7.0 in c:\\users\\garvit\\appdata\\roaming\\python\\python312\\site-packages (from weasel<0.5.0,>=0.1.0->spacy) (0.21.0)\n",
      "Requirement already satisfied: smart-open<8.0.0,>=5.2.1 in c:\\users\\garvit\\.conda\\envs\\lotus\\lib\\site-packages (from weasel<0.5.0,>=0.1.0->spacy) (7.1.0)\n",
      "Requirement already satisfied: MarkupSafe>=2.0 in c:\\users\\garvit\\appdata\\roaming\\python\\python312\\site-packages (from jinja2->spacy) (2.1.5)\n",
      "Requirement already satisfied: marisa-trie>=1.1.0 in c:\\users\\garvit\\appdata\\roaming\\python\\python312\\site-packages (from language-data>=1.2->langcodes<4.0.0,>=3.2.0->spacy) (1.2.1)\n",
      "Requirement already satisfied: markdown-it-py>=2.2.0 in c:\\users\\garvit\\.conda\\envs\\lotus\\lib\\site-packages (from rich>=10.11.0->typer<1.0.0,>=0.3.0->spacy) (3.0.0)\n",
      "Requirement already satisfied: pygments<3.0.0,>=2.13.0 in c:\\users\\garvit\\appdata\\roaming\\python\\python312\\site-packages (from rich>=10.11.0->typer<1.0.0,>=0.3.0->spacy) (2.18.0)\n",
      "Requirement already satisfied: wrapt in c:\\users\\garvit\\.conda\\envs\\lotus\\lib\\site-packages (from smart-open<8.0.0,>=5.2.1->weasel<0.5.0,>=0.1.0->spacy) (1.17.2)\n",
      "Requirement already satisfied: mdurl~=0.1 in c:\\users\\garvit\\.conda\\envs\\lotus\\lib\\site-packages (from markdown-it-py>=2.2.0->rich>=10.11.0->typer<1.0.0,>=0.3.0->spacy) (0.1.2)\n",
      "Note: you may need to restart the kernel to use updated packages.\n",
      "Requirement already satisfied: nltk in c:\\users\\garvit\\appdata\\roaming\\python\\python312\\site-packages (3.9.1)\n",
      "Requirement already satisfied: click in c:\\users\\garvit\\appdata\\roaming\\python\\python312\\site-packages (from nltk) (8.1.8)\n",
      "Requirement already satisfied: joblib in c:\\users\\garvit\\appdata\\roaming\\python\\python312\\site-packages (from nltk) (1.4.2)\n",
      "Requirement already satisfied: regex>=2021.8.3 in c:\\users\\garvit\\appdata\\roaming\\python\\python312\\site-packages (from nltk) (2024.11.6)\n",
      "Requirement already satisfied: tqdm in c:\\users\\garvit\\appdata\\roaming\\python\\python312\\site-packages (from nltk) (4.67.1)\n",
      "Requirement already satisfied: colorama in c:\\users\\garvit\\appdata\\roaming\\python\\python312\\site-packages (from click->nltk) (0.4.6)\n",
      "Note: you may need to restart the kernel to use updated packages.\n"
     ]
    },
    {
     "name": "stderr",
     "output_type": "stream",
     "text": [
      "ERROR: Invalid requirement: '#': Expected package name at the start of dependency specifier\n",
      "    #\n",
      "    ^\n"
     ]
    }
   ],
   "source": [
    "%pip install spacy\n",
    "%pip install nltk\n",
    "!python -m spacy download en_core_web_sm  # SpaCy English model"
   ]
  },
  {
   "cell_type": "code",
   "execution_count": 19,
   "metadata": {},
   "outputs": [],
   "source": [
    "#  Import all necessary libraries\n",
    "import spacy\n",
    "import nltk\n",
    "from nltk.sentiment import SentimentIntensityAnalyzer\n",
    "from nltk.tokenize import word_tokenize\n",
    "from nltk.corpus import stopwords\n",
    "from nltk.stem import WordNetLemmatizer"
   ]
  },
  {
   "cell_type": "code",
   "execution_count": 20,
   "metadata": {},
   "outputs": [
    {
     "name": "stderr",
     "output_type": "stream",
     "text": [
      "[nltk_data] Downloading package punkt to\n",
      "[nltk_data]     C:\\Users\\Garvit\\AppData\\Roaming\\nltk_data...\n",
      "[nltk_data]   Package punkt is already up-to-date!\n",
      "[nltk_data] Downloading package stopwords to\n",
      "[nltk_data]     C:\\Users\\Garvit\\AppData\\Roaming\\nltk_data...\n",
      "[nltk_data]   Package stopwords is already up-to-date!\n",
      "[nltk_data] Downloading package wordnet to\n",
      "[nltk_data]     C:\\Users\\Garvit\\AppData\\Roaming\\nltk_data...\n",
      "[nltk_data]   Package wordnet is already up-to-date!\n",
      "[nltk_data] Downloading package vader_lexicon to\n",
      "[nltk_data]     C:\\Users\\Garvit\\AppData\\Roaming\\nltk_data...\n",
      "[nltk_data]   Package vader_lexicon is already up-to-date!\n"
     ]
    },
    {
     "data": {
      "text/plain": [
       "True"
      ]
     },
     "execution_count": 20,
     "metadata": {},
     "output_type": "execute_result"
    }
   ],
   "source": [
    "#  Download required NLTK resources (run once)\n",
    "nltk.download('punkt')          # For tokenization\n",
    "nltk.download('stopwords')      # For stopwords\n",
    "nltk.download('wordnet')        # For lemmatization\n",
    "nltk.download('vader_lexicon')  # For sentiment analysis"
   ]
  },
  {
   "cell_type": "code",
   "execution_count": 14,
   "metadata": {},
   "outputs": [],
   "source": [
    "# Load SpaCy model and initialize tools\n",
    "nlp = spacy.load(\"en_core_web_sm\")  # Load English model for NER and tokenization\n",
    "sia = SentimentIntensityAnalyzer()  # Sentiment analyzer\n",
    "stop_words = set(stopwords.words('english'))  # Stopwords list\n",
    "lemmatizer = WordNetLemmatizer()  # Lemmatizer for normalizing words"
   ]
  },
  {
   "cell_type": "code",
   "execution_count": 15,
   "metadata": {},
   "outputs": [],
   "source": [
    "import spacy\n",
    "\n",
    "# Load spaCy model\n",
    "nlp = spacy.load(\"en_core_web_sm\")\n",
    "\n",
    "# Check if entity ruler already exists\n",
    "if \"entity_ruler\" not in nlp.pipe_names:\n",
    "    ruler = nlp.add_pipe(\"entity_ruler\", before=\"ner\")\n",
    "else:\n",
    "    ruler = nlp.get_pipe(\"entity_ruler\")\n",
    "\n",
    "# Define patterns\n",
    "patterns = [\n",
    "    {\"label\": \"CLIMATE\", \"pattern\": \"seas\"},\n",
    "    {\"label\": \"CLIMATE\", \"pattern\": \"deforestation\"},\n",
    "    {\"label\": \"CLIMATE\", \"pattern\": \"flood\"},\n",
    "    {\"label\": \"CLIMATE\", \"pattern\": \"drought\"},\n",
    "    {\"label\": \"URGENCY\", \"pattern\": \"threaten\"},\n",
    "    {\"label\": \"URGENCY\", \"pattern\": \"killing\"},\n",
    "    {\"label\": \"URGENCY\", \"pattern\": \"help\"},\n",
    "    {\"label\": \"URGENCY\", \"pattern\": \"now\"}\n",
    "]\n",
    "\n",
    "# Add patterns\n",
    "ruler.add_patterns(patterns)\n"
   ]
  },
  {
   "cell_type": "code",
   "execution_count": 16,
   "metadata": {},
   "outputs": [],
   "source": [
    "\n",
    "# Define location weights (higher for underrepresented regions)\n",
    "location_weights = {\n",
    "    \"Tuvalu\": 1.5,    # Small island nation, highly vulnerable\n",
    "    \"Kenya\": 1.4,     # Developing nation, often overlooked\n",
    "    \"Brazil\": 1.2,    # Large but with marginalized communities\n",
    "    \"USA\": 0.8,       # Well-represented, lower weight\n",
    "    \"Europe\": 0.9     # Broad region, often overrepresented\n",
    "}"
   ]
  },
  {
   "cell_type": "code",
   "execution_count": 17,
   "metadata": {},
   "outputs": [],
   "source": [
    "#  Function to process a single text\n",
    "def analyze_climate_text(text):\n",
    "    # Tokenize and clean with NLTK\n",
    "    tokens = word_tokenize(text.lower())\n",
    "    cleaned_tokens = [lemmatizer.lemmatize(token) for token in tokens if token not in stop_words and token.isalpha()]\n",
    "    print(f\"Cleaned Tokens: {cleaned_tokens}\")\n",
    "    \n",
    "    # Process with SpaCy for NER and custom entities\n",
    "    doc = nlp(text)\n",
    "    entities = [(ent.text, ent.label_) for ent in doc.ents]\n",
    "    locations = [ent.text for ent in doc.ents if ent.label_ == \"GPE\"]\n",
    "    climate_issues = [ent.text for ent in doc.ents if ent.label_ == \"CLIMATE\"]\n",
    "    urgency_markers = [ent.text for ent in doc.ents if ent.label_ == \"URGENCY\"]\n",
    "    print(f\"Entities: {entities}\")\n",
    "    \n",
    "    # Sentiment analysis with NLTK\n",
    "    sentiment = sia.polarity_scores(text)\n",
    "    print(f\"Sentiment: {sentiment}\")\n",
    "    \n",
    "    # Calculate urgency score\n",
    "    location = locations[0] if locations else \"Unknown\"\n",
    "    weight = location_weights.get(location, 1.0)  # Default weight 1.0\n",
    "    urgency_score = (len(urgency_markers) * 0.3 + abs(sentiment[\"compound\"])) * weight\n",
    "    level = (\"Urgent\" if urgency_score > 0.5 else \n",
    "             \"High Concern\" if urgency_score > 0.3 else \n",
    "             \"Notable\")\n",
    "    \n",
    "    # Generate output\n",
    "    issue_str = climate_issues[0] if climate_issues else \"climate issue\"\n",
    "    urgency_str = f\"{urgency_markers[0]}\" if urgency_markers else \"none\"\n",
    "    result = {\n",
    "        \"Location\": location,\n",
    "        \"Level\": level,\n",
    "        \"Issue\": issue_str,\n",
    "        \"Sentiment\": sentiment[\"compound\"],\n",
    "        \"Urgency Marker\": urgency_str,\n",
    "        \"Score\": round(urgency_score, 2)\n",
    "    }\n",
    "    return result"
   ]
  },
  {
   "cell_type": "code",
   "execution_count": 18,
   "metadata": {},
   "outputs": [],
   "source": [
    "#  Test the project with sample texts\n",
    "sample_texts = [\n",
    "    \"Rising seas threaten Tuvalu!\",              # Small island voice\n",
    "    \"Deforestation in Brazil is killing us.\",    # Forest community voice\n",
    "    \"Drought in Kenya needs help now!\",          # Arid region voice\n",
    "    \"Flood risks rise in Europe.\"                # Well-represented region\n",
    "]"
   ]
  },
  {
   "cell_type": "code",
   "execution_count": 11,
   "metadata": {},
   "outputs": [
    {
     "name": "stdout",
     "output_type": "stream",
     "text": [
      "Climate Crisis Voice Amplifier Results:\n",
      "--------------------------------------------------\n",
      "\n",
      "Analyzing: Rising seas threaten Tuvalu!\n",
      "Cleaned Tokens: ['rising', 'sea', 'threaten', 'tuvalu']\n",
      "Entities: [('seas', 'CLIMATE'), ('threaten', 'URGENCY')]\n",
      "Sentiment: {'neg': 0.491, 'neu': 0.509, 'pos': 0.0, 'compound': -0.4389}\n",
      "Location: Unknown\n",
      "Priority: Urgent\n",
      "Issue: seas\n",
      "Sentiment Score: -0.4389\n",
      "Urgency Marker: threaten\n",
      "Urgency Score: 0.74\n",
      "--------------------------------------------------\n",
      "\n",
      "Analyzing: Deforestation in Brazil is killing us.\n",
      "Cleaned Tokens: ['deforestation', 'brazil', 'killing', 'u']\n",
      "Entities: [('Brazil', 'GPE'), ('killing', 'URGENCY')]\n",
      "Sentiment: {'neg': 0.468, 'neu': 0.532, 'pos': 0.0, 'compound': -0.6597}\n",
      "Location: Brazil\n",
      "Priority: Urgent\n",
      "Issue: climate issue\n",
      "Sentiment Score: -0.6597\n",
      "Urgency Marker: killing\n",
      "Urgency Score: 1.15\n",
      "--------------------------------------------------\n",
      "\n",
      "Analyzing: Drought in Kenya needs help now!\n",
      "Cleaned Tokens: ['drought', 'kenya', 'need', 'help']\n",
      "Entities: [('Kenya', 'GPE'), ('help', 'URGENCY'), ('now', 'URGENCY')]\n",
      "Sentiment: {'neg': 0.0, 'neu': 0.626, 'pos': 0.374, 'compound': 0.4574}\n",
      "Location: Kenya\n",
      "Priority: Urgent\n",
      "Issue: climate issue\n",
      "Sentiment Score: 0.4574\n",
      "Urgency Marker: help\n",
      "Urgency Score: 1.48\n",
      "--------------------------------------------------\n",
      "\n",
      "Analyzing: Flood risks rise in Europe.\n",
      "Cleaned Tokens: ['flood', 'risk', 'rise', 'europe']\n",
      "Entities: [('Europe', 'LOC')]\n",
      "Sentiment: {'neg': 0.344, 'neu': 0.656, 'pos': 0.0, 'compound': -0.2732}\n",
      "Location: Unknown\n",
      "Priority: Notable\n",
      "Issue: climate issue\n",
      "Sentiment Score: -0.2732\n",
      "Urgency Marker: none\n",
      "Urgency Score: 0.27\n",
      "--------------------------------------------------\n"
     ]
    }
   ],
   "source": [
    "#  Run analysis and display results\n",
    "print(\"Climate Crisis Voice Amplifier Results:\")\n",
    "print(\"-\" * 50)\n",
    "for text in sample_texts:\n",
    "    print(f\"\\nAnalyzing: {text}\")\n",
    "    result = analyze_climate_text(text)\n",
    "    print(f\"Location: {result['Location']}\")\n",
    "    print(f\"Priority: {result['Level']}\")\n",
    "    print(f\"Issue: {result['Issue']}\")\n",
    "    print(f\"Sentiment Score: {result['Sentiment']}\")\n",
    "    print(f\"Urgency Marker: {result['Urgency Marker']}\")\n",
    "    print(f\"Urgency Score: {result['Score']}\")\n",
    "    print(\"-\" * 50)"
   ]
  }
 ],
 "metadata": {
  "kernelspec": {
   "display_name": "lotus",
   "language": "python",
   "name": "python3"
  },
  "language_info": {
   "codemirror_mode": {
    "name": "ipython",
    "version": 3
   },
   "file_extension": ".py",
   "mimetype": "text/x-python",
   "name": "python",
   "nbconvert_exporter": "python",
   "pygments_lexer": "ipython3",
   "version": "3.12.9"
  }
 },
 "nbformat": 4,
 "nbformat_minor": 2
}
